{
 "cells": [
  {
   "cell_type": "code",
   "execution_count": 32,
   "id": "0b07256d-6286-4688-88e4-f6a09148fe39",
   "metadata": {},
   "outputs": [],
   "source": [
    "import tkinter as tk\n",
    "from tkinter import messagebox\n",
    "\n",
    "root = tk.Tk()\n",
    "root.title(\"LogIn Form\")\n",
    "root.geometry(\"340x440\")\n",
    "root.configure(bg=\"#85929E\")\n",
    "\n",
    "frame=tk.Frame(bg=\"#85929E\")\n",
    "\n",
    "def login():\n",
    "    username = \"rameshshetty\"\n",
    "    passward = \"Ramesh@1995\"\n",
    "    if user_entry.get()==username and pas_entry.get()==passward:\n",
    "        messagebox.showinfo(title=\"Successfully Log In\",message=\"Successfully Logged in\")\n",
    "    else:\n",
    "        messagebox.showinfo(title=\"Error\",message=\"Invalid login\")\n",
    "    \n",
    "    \n",
    "head_lab = tk.Label(frame,text=\"Log In\",bg=\"#E59866\",fg=\"#FFFFFF\",font=(\"arial\",16,\"bold\"))\n",
    "user_lab=tk.Label(frame,text=\"Username\",bg=\"#85929E\",fg=\"#FFFFFF\",font=(\"arial\",16))\n",
    "pas_lab=tk.Label(frame,text=\"Password\",bg=\"#85929E\",fg=\"#FFFFFF\",font=(\"arial\",16))\n",
    "user_entry=tk.Entry(frame,font=(\"arial\",16))\n",
    "pas_entry=tk.Entry(frame,show=\"*\",font=(\"arial\",16))\n",
    "log_but=tk.Button(frame,text=\"Log In\",bg=\"#E59866\",fg=\"#FFFFFF\",font=(\"arial\",12),comman=login)\n",
    "\n",
    "\n",
    "head_lab.grid(row=0,column=0,columnspan=2,sticky=\"news\",pady=10)\n",
    "user_lab.grid(row=1,column=0,padx=10)\n",
    "pas_lab.grid(row=2,column=0,padx=10)\n",
    "user_entry.grid(row=1,column=1,pady=20)\n",
    "pas_entry.grid(row=2,column=1,pady=20)\n",
    "log_but.grid(row=3,column=0,columnspan=2,pady=10)\n",
    "\n",
    "frame.pack()\n",
    "\n",
    "root.mainloop()"
   ]
  },
  {
   "cell_type": "code",
   "execution_count": null,
   "id": "50361f55-1163-46c2-9b7c-8507d60b0a38",
   "metadata": {},
   "outputs": [],
   "source": []
  }
 ],
 "metadata": {
  "kernelspec": {
   "display_name": "Python 3 (ipykernel)",
   "language": "python",
   "name": "python3"
  },
  "language_info": {
   "codemirror_mode": {
    "name": "ipython",
    "version": 3
   },
   "file_extension": ".py",
   "mimetype": "text/x-python",
   "name": "python",
   "nbconvert_exporter": "python",
   "pygments_lexer": "ipython3",
   "version": "3.12.4"
  }
 },
 "nbformat": 4,
 "nbformat_minor": 5
}
